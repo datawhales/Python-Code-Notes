{
 "cells": [
  {
   "cell_type": "markdown",
   "id": "outdoor-tracker",
   "metadata": {},
   "source": [
    "# 파이썬 알고리즘 인터뷰 7장. 배열"
   ]
  },
  {
   "cell_type": "markdown",
   "id": "stuck-sunset",
   "metadata": {},
   "source": [
    "## 두 수의 합"
   ]
  },
  {
   "cell_type": "code",
   "execution_count": 1,
   "id": "vital-parks",
   "metadata": {},
   "outputs": [],
   "source": [
    "nums = [2, 7, 11, 15]\n",
    "target = 9\n",
    "\n",
    "output = [0, 1]"
   ]
  },
  {
   "cell_type": "code",
   "execution_count": 2,
   "id": "victorian-illustration",
   "metadata": {},
   "outputs": [],
   "source": [
    "# 덧셈하여 target을 만들 수 있는 배열의 두 숫자 인덱스를 리턴\n",
    "from typing import List\n",
    "\n",
    "def two_sum(nums: List[int], target: int) -> List[int]:\n",
    "    check_dict = {}\n",
    "    for i in range(len(nums)):\n",
    "        if target - nums[i] not in check_dict:\n",
    "            check_dict[nums[i]] = i\n",
    "        else:\n",
    "            return [check_dict[target - nums[i]], i]"
   ]
  },
  {
   "cell_type": "code",
   "execution_count": 3,
   "id": "internal-vertical",
   "metadata": {},
   "outputs": [
    {
     "data": {
      "text/plain": [
       "[0, 1]"
      ]
     },
     "execution_count": 3,
     "metadata": {},
     "output_type": "execute_result"
    }
   ],
   "source": [
    "two_sum(nums, target)"
   ]
  },
  {
   "cell_type": "markdown",
   "id": "serial-blanket",
   "metadata": {},
   "source": [
    "## 빗물 트래핑"
   ]
  },
  {
   "cell_type": "code",
   "execution_count": 4,
   "id": "unnecessary-comparative",
   "metadata": {},
   "outputs": [],
   "source": [
    "input1 = [0,1,0,2,1,0,1,3,2,1,2,1]\n",
    "output1 = 6"
   ]
  },
  {
   "cell_type": "code",
   "execution_count": 7,
   "id": "present-christianity",
   "metadata": {},
   "outputs": [],
   "source": [
    "# 높이를 입력받아 비 온 후 얼마나 많은 물이 쌓일 수 있는지 계산\n",
    "from typing import List\n",
    "\n",
    "def trap(height: List[int]) -> int:\n",
    "    # exception\n",
    "    if not height:\n",
    "        return 0\n",
    "    \n",
    "    volume = 0\n",
    "    left, right = 0, len(height) - 1\n",
    "    left_max, right_max = height[left], height[right]\n",
    "    \n",
    "    while left < right:\n",
    "        left_max, right_max = max(height[left], left_max), max(height[right], right_max)\n",
    "        \n",
    "        # move pointer\n",
    "        # direction: low -> high\n",
    "        if left_max <= right_max:\n",
    "            volume += left_max - height[left]\n",
    "            left += 1\n",
    "        else:\n",
    "            volume += right_max - height[right]\n",
    "            right -= 1\n",
    "    return volume"
   ]
  },
  {
   "cell_type": "code",
   "execution_count": 8,
   "id": "biological-period",
   "metadata": {},
   "outputs": [
    {
     "data": {
      "text/plain": [
       "6"
      ]
     },
     "execution_count": 8,
     "metadata": {},
     "output_type": "execute_result"
    }
   ],
   "source": [
    "trap(input1)"
   ]
  },
  {
   "cell_type": "code",
   "execution_count": 56,
   "id": "documented-train",
   "metadata": {},
   "outputs": [],
   "source": [
    "# 높이를 입력받아 비 온 후 얼마나 많은 물이 쌓일 수 있는지 계산\n",
    "from typing import List\n",
    "\n",
    "def trap(height: List[int]) -> int:\n",
    "    \"\"\" 가장 높은 위치 인덱스부터 얻은 후 그 위치까지 가면서 높은 위치를 얻을 때마다 기록\n",
    "    \"\"\"\n",
    "    # exception\n",
    "    if not height:\n",
    "        return 0\n",
    "    \n",
    "    volume = 0\n",
    "\n",
    "    max_idx_list = [i for i in range(len(height)) if height[i] == max(height)]\n",
    "\n",
    "    left_max, right_max = max_idx_list[0], max_idx_list[-1]\n",
    "    \n",
    "    left_dict, right_dict = {}, {}\n",
    "\n",
    "    left, right = 0, len(height) - 1\n",
    "    \n",
    "    while left < left_max:\n",
    "        if not left_dict:\n",
    "            left_dict[left] = height[left]\n",
    "        elif height[left] > list(left_dict.values())[-1]:\n",
    "            left_dict[left] = height[left]\n",
    "        else:\n",
    "            volume += list(left_dict.values())[-1] - height[left]\n",
    "        left += 1\n",
    "    \n",
    "    while right > right_max:\n",
    "        if not right_dict:\n",
    "            right_dict[right] = height[right]\n",
    "        elif height[right] > list(right_dict.values())[-1]:\n",
    "            right_dict[right] = height[right]\n",
    "        else:\n",
    "            volume += list(right_dict.values())[-1] - height[right]\n",
    "        right -= 1\n",
    "        \n",
    "#     left_dict[left_max], right_dict[right_max] = max(height), max(height)\n",
    "    \n",
    "    for i in range(left_max + 1, right_max):\n",
    "        volume += max(height) - height[i]\n",
    "        \n",
    "    return volume\n",
    "    "
   ]
  },
  {
   "cell_type": "code",
   "execution_count": 57,
   "id": "christian-level",
   "metadata": {},
   "outputs": [
    {
     "data": {
      "text/plain": [
       "6"
      ]
     },
     "execution_count": 57,
     "metadata": {},
     "output_type": "execute_result"
    }
   ],
   "source": [
    "trap(input1)"
   ]
  },
  {
   "cell_type": "markdown",
   "id": "blond-portable",
   "metadata": {},
   "source": [
    "## 세 수의 합"
   ]
  },
  {
   "cell_type": "code",
   "execution_count": 58,
   "id": "developed-finder",
   "metadata": {},
   "outputs": [],
   "source": [
    "nums = [-1, 0, 1, 2, -1, -4]\n",
    "\n",
    "output = [\n",
    "    [-1, 0, 1],\n",
    "    [-1, -1, 2]\n",
    "]"
   ]
  },
  {
   "cell_type": "code",
   "execution_count": null,
   "id": "adjusted-hunter",
   "metadata": {},
   "outputs": [],
   "source": [
    "# 배열을 입력받아 합으로 0을 만들 수 있는 3개의 엘리먼트 출력\n",
    "\n",
    "def three_sum(nums: List[int]) -> List[List[int]]:\n",
    "    "
   ]
  }
 ],
 "metadata": {
  "kernelspec": {
   "display_name": "Python 3",
   "language": "python",
   "name": "python3"
  },
  "language_info": {
   "codemirror_mode": {
    "name": "ipython",
    "version": 3
   },
   "file_extension": ".py",
   "mimetype": "text/x-python",
   "name": "python",
   "nbconvert_exporter": "python",
   "pygments_lexer": "ipython3",
   "version": "3.8.3"
  }
 },
 "nbformat": 4,
 "nbformat_minor": 5
}
