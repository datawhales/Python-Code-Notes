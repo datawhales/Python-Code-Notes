{
 "cells": [
  {
   "cell_type": "markdown",
   "id": "planned-treasury",
   "metadata": {},
   "source": [
    "# 파이썬 알고리즘 인터뷰 6장. 문자열 조작"
   ]
  },
  {
   "cell_type": "markdown",
   "id": "smaller-korean",
   "metadata": {},
   "source": [
    "## 팰린드롬 확인"
   ]
  },
  {
   "cell_type": "code",
   "execution_count": 1,
   "id": "unique-writer",
   "metadata": {},
   "outputs": [],
   "source": [
    "test_str1 = \"A man, a plan, a canal: Panama\"\n",
    "\n",
    "test_str2 = \"race a car\"\n"
   ]
  },
  {
   "cell_type": "code",
   "execution_count": 40,
   "id": "discrete-channel",
   "metadata": {},
   "outputs": [],
   "source": [
    "def is_palindrome(string: str) -> bool:\n",
    "    \"\"\" Check if the input string is palindrome.\n",
    "    \"\"\"\n",
    "    import re\n",
    "    \n",
    "    string = string.lower()\n",
    "    string = re.sub('[^a-z0-9]', '', string)\n",
    "    \n",
    "    if string == string[::-1]:\n",
    "        return True\n",
    "    return False"
   ]
  },
  {
   "cell_type": "code",
   "execution_count": 41,
   "id": "homeless-poverty",
   "metadata": {},
   "outputs": [
    {
     "data": {
      "text/plain": [
       "True"
      ]
     },
     "execution_count": 41,
     "metadata": {},
     "output_type": "execute_result"
    }
   ],
   "source": [
    "is_palindrome(test_str1)"
   ]
  },
  {
   "cell_type": "code",
   "execution_count": 42,
   "id": "looking-flooring",
   "metadata": {},
   "outputs": [
    {
     "data": {
      "text/plain": [
       "False"
      ]
     },
     "execution_count": 42,
     "metadata": {},
     "output_type": "execute_result"
    }
   ],
   "source": [
    "is_palindrome(test_str2)"
   ]
  },
  {
   "cell_type": "markdown",
   "id": "addressed-twist",
   "metadata": {},
   "source": [
    "## 문자열 뒤집기"
   ]
  },
  {
   "cell_type": "code",
   "execution_count": 44,
   "id": "otherwise-hospital",
   "metadata": {},
   "outputs": [],
   "source": [
    "input1 = ['h', 'e', 'l', 'l', 'o']\n",
    "\n",
    "output1 = ['o', 'l', 'l', 'e', 'h']\n",
    "\n",
    "input2 = ['H', 'a', 'n', 'n', 'a', 'h']\n",
    "\n",
    "output2 = ['h', 'a', 'n', 'n', 'a', 'H']"
   ]
  },
  {
   "cell_type": "code",
   "execution_count": 51,
   "id": "talented-simon",
   "metadata": {},
   "outputs": [],
   "source": [
    "def reverse_string(string_list: list) -> list:\n",
    "    \"\"\" Reverse the string list.\n",
    "    \"\"\"\n",
    "    # use two pointers\n",
    "    left, right = 0, len(string_list)-1\n",
    "    while left < right:\n",
    "        # swap left char with right char\n",
    "        string_list[left], string_list[right] = string_list[right], string_list[left]\n",
    "        # move pointers\n",
    "        left += 1\n",
    "        right -= 1\n",
    "    "
   ]
  },
  {
   "cell_type": "code",
   "execution_count": 52,
   "id": "blond-fields",
   "metadata": {},
   "outputs": [
    {
     "data": {
      "text/plain": [
       "['h', 'e', 'l', 'l', 'o']"
      ]
     },
     "execution_count": 52,
     "metadata": {},
     "output_type": "execute_result"
    }
   ],
   "source": [
    "input1"
   ]
  },
  {
   "cell_type": "code",
   "execution_count": 53,
   "id": "endless-montreal",
   "metadata": {},
   "outputs": [
    {
     "data": {
      "text/plain": [
       "['o', 'l', 'l', 'e', 'h']"
      ]
     },
     "execution_count": 53,
     "metadata": {},
     "output_type": "execute_result"
    }
   ],
   "source": [
    "reverse_string(input1)\n",
    "input1"
   ]
  },
  {
   "cell_type": "code",
   "execution_count": 54,
   "id": "white-duplicate",
   "metadata": {},
   "outputs": [],
   "source": [
    "def reverse_string(string_list: list) -> list:\n",
    "    \"\"\" Reverse the string list.\n",
    "    \"\"\"\n",
    "    string_list.reverse()"
   ]
  },
  {
   "cell_type": "code",
   "execution_count": 55,
   "id": "collectible-morning",
   "metadata": {},
   "outputs": [
    {
     "data": {
      "text/plain": [
       "['h', 'a', 'n', 'n', 'a', 'H']"
      ]
     },
     "execution_count": 55,
     "metadata": {},
     "output_type": "execute_result"
    }
   ],
   "source": [
    "reverse_string(input2)\n",
    "input2"
   ]
  },
  {
   "cell_type": "code",
   "execution_count": 56,
   "id": "amazing-transcript",
   "metadata": {},
   "outputs": [
    {
     "data": {
      "text/plain": [
       "True"
      ]
     },
     "execution_count": 56,
     "metadata": {},
     "output_type": "execute_result"
    }
   ],
   "source": [
    "input2==output2"
   ]
  },
  {
   "cell_type": "markdown",
   "id": "central-conviction",
   "metadata": {},
   "source": [
    "## 로그 파일 재정렬"
   ]
  },
  {
   "cell_type": "code",
   "execution_count": 65,
   "id": "solid-gates",
   "metadata": {},
   "outputs": [],
   "source": [
    "logs = ['dig1 8 1 5 1', 'let1 art can', 'dig2 3 6', 'let2 own kit dig', 'let3 art zero']\n",
    "\n",
    "output = ['let1 art can', 'let3 art zero', 'let2 own kit dig', 'dig1 8 1 5 1', 'dig2 3 6']"
   ]
  },
  {
   "cell_type": "code",
   "execution_count": 58,
   "id": "oriental-validation",
   "metadata": {},
   "outputs": [],
   "source": [
    "# 로그의 가장 앞 부분은 식별자\n",
    "# 문자로 구성된 로그가 숫자 로그보다 앞에 온다\n",
    "# 식별자는 순서에 영향을 끼치지 않지만 문자가 동일할 경우 식별자 순으로 한다\n",
    "# 숫자 로그는 입력 순서대로 한다\n",
    "from typing import List\n",
    "\n",
    "def reorder_logs(logs: List[str]) -> List[str]:\n",
    "    letter_logs, digit_logs = [], []\n",
    "    # separate letter logs and digit logs\n",
    "    for l in logs:\n",
    "        if l.split()[1].isdigit():\n",
    "            digit_logs.append(l)\n",
    "        else:\n",
    "            letter_logs.append(l)\n",
    "    letter_logs.sort(key=lambda x: (x.split()[1:], x.split()[0]))\n",
    "    return letter_logs + digit_logs"
   ]
  },
  {
   "cell_type": "code",
   "execution_count": 66,
   "id": "regulated-fitting",
   "metadata": {},
   "outputs": [
    {
     "data": {
      "text/plain": [
       "['let1 art can',\n",
       " 'let3 art zero',\n",
       " 'let2 own kit dig',\n",
       " 'dig1 8 1 5 1',\n",
       " 'dig2 3 6']"
      ]
     },
     "execution_count": 66,
     "metadata": {},
     "output_type": "execute_result"
    }
   ],
   "source": [
    "reorder_logs(logs)"
   ]
  },
  {
   "cell_type": "code",
   "execution_count": 67,
   "id": "honey-glucose",
   "metadata": {},
   "outputs": [
    {
     "data": {
      "text/plain": [
       "True"
      ]
     },
     "execution_count": 67,
     "metadata": {},
     "output_type": "execute_result"
    }
   ],
   "source": [
    "reorder_logs(logs) == output"
   ]
  },
  {
   "cell_type": "markdown",
   "id": "yellow-numbers",
   "metadata": {},
   "source": [
    "## 가장 흔한 단어"
   ]
  },
  {
   "cell_type": "code",
   "execution_count": 68,
   "id": "dying-differential",
   "metadata": {},
   "outputs": [],
   "source": [
    "paragraph = 'Bob hit a ball, the hit BALL flew far after it was hit.'\n",
    "banned = ['hit']"
   ]
  },
  {
   "cell_type": "code",
   "execution_count": 93,
   "id": "nuclear-amsterdam",
   "metadata": {},
   "outputs": [],
   "source": [
    "# 금지된 단어를 제외한 가장 흔하게 등장하는 단어 반환\n",
    "# 대소문자 구분 x\n",
    "# 마침표, 쉼표 등 무시\n",
    "\n",
    "def most_common_word(paragraph: str, banned: List[str]) -> str:\n",
    "    \"\"\" Return most common word.\n",
    "    \"\"\"\n",
    "    import re\n",
    "    from collections import Counter\n",
    "    \n",
    "    words = [word for word in re.sub(r'[^\\w]', ' ', paragraph).lower().split()\n",
    "             if word not in banned]\n",
    "    counter = Counter(words)\n",
    "    return counter.most_common()[0][0]"
   ]
  },
  {
   "cell_type": "code",
   "execution_count": 95,
   "id": "dress-paragraph",
   "metadata": {},
   "outputs": [
    {
     "data": {
      "text/plain": [
       "'ball'"
      ]
     },
     "execution_count": 95,
     "metadata": {},
     "output_type": "execute_result"
    }
   ],
   "source": [
    "most_common_word(paragraph, banned)"
   ]
  },
  {
   "cell_type": "markdown",
   "id": "significant-harassment",
   "metadata": {},
   "source": [
    "## 그룹 애너그램"
   ]
  },
  {
   "cell_type": "code",
   "execution_count": 96,
   "id": "attached-stack",
   "metadata": {},
   "outputs": [],
   "source": [
    "input1 = ['eat', 'tea', 'tan', 'ate', 'nat', 'bat']"
   ]
  },
  {
   "cell_type": "code",
   "execution_count": 105,
   "id": "micro-uzbekistan",
   "metadata": {},
   "outputs": [],
   "source": [
    "def anagram(string_list: List[str]) -> List[List[str]]:\n",
    "    from collections import defaultdict\n",
    "    anagrams = defaultdict(list)\n",
    "    for word in string_list:\n",
    "        key = ''.join(sorted(word))\n",
    "        anagrams[key].append(word)\n",
    "    return list(anagrams.values())"
   ]
  },
  {
   "cell_type": "code",
   "execution_count": 107,
   "id": "hollow-public",
   "metadata": {},
   "outputs": [
    {
     "data": {
      "text/plain": [
       "[['eat', 'tea', 'ate'], ['tan', 'nat'], ['bat']]"
      ]
     },
     "execution_count": 107,
     "metadata": {},
     "output_type": "execute_result"
    }
   ],
   "source": [
    "anagram(input1)"
   ]
  },
  {
   "cell_type": "markdown",
   "id": "silent-launch",
   "metadata": {},
   "source": [
    "## 가장 긴 팰린드롬 부분 문자열"
   ]
  },
  {
   "cell_type": "code",
   "execution_count": 108,
   "id": "million-diagnosis",
   "metadata": {},
   "outputs": [],
   "source": [
    "input1 = 'babad'\n",
    "output1 = 'bab'\n",
    "\n",
    "input2 = 'cbbd'\n",
    "output2 = 'bb'"
   ]
  },
  {
   "cell_type": "code",
   "execution_count": 109,
   "id": "looking-domain",
   "metadata": {},
   "outputs": [],
   "source": [
    "def longest_palindrome(s: str) -> str:\n",
    "    # use two pointers\n",
    "    "
   ]
  },
  {
   "cell_type": "code",
   "execution_count": null,
   "id": "intensive-dealer",
   "metadata": {},
   "outputs": [],
   "source": []
  }
 ],
 "metadata": {
  "kernelspec": {
   "display_name": "Python 3",
   "language": "python",
   "name": "python3"
  },
  "language_info": {
   "codemirror_mode": {
    "name": "ipython",
    "version": 3
   },
   "file_extension": ".py",
   "mimetype": "text/x-python",
   "name": "python",
   "nbconvert_exporter": "python",
   "pygments_lexer": "ipython3",
   "version": "3.8.3"
  }
 },
 "nbformat": 4,
 "nbformat_minor": 5
}
