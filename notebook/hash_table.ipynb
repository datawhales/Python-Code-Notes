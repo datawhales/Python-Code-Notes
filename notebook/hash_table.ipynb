{
 "cells": [
  {
   "cell_type": "markdown",
   "id": "upset-smile",
   "metadata": {},
   "source": [
    "# 파이썬 알고리즘 인터뷰 11장. 해시 테이블"
   ]
  },
  {
   "cell_type": "markdown",
   "id": "french-handling",
   "metadata": {},
   "source": [
    "## 보석과 돌"
   ]
  },
  {
   "cell_type": "code",
   "execution_count": 95,
   "id": "destroyed-saying",
   "metadata": {},
   "outputs": [],
   "source": [
    "J = \"aA\"\n",
    "S = \"aAAbbbb\"\n",
    "output = 3"
   ]
  },
  {
   "cell_type": "code",
   "execution_count": 96,
   "id": "better-pioneer",
   "metadata": {},
   "outputs": [],
   "source": [
    "# J는 보석, S는 갖고 있는 돌\n",
    "# S에 보석이 몇 개 존재하는지\n",
    "# 대소문자 구분\n",
    "\n",
    "def num_jewels(J: str, S: str) -> int:\n",
    "    result = 0\n",
    "    jewel_map = {char: True for char in J}\n",
    "    \n",
    "    for stone in S:\n",
    "        if stone in jewel_map:\n",
    "            result += 1\n",
    "    return result"
   ]
  },
  {
   "cell_type": "code",
   "execution_count": 97,
   "id": "damaged-inside",
   "metadata": {},
   "outputs": [
    {
     "data": {
      "text/plain": [
       "3"
      ]
     },
     "execution_count": 97,
     "metadata": {},
     "output_type": "execute_result"
    }
   ],
   "source": [
    "num_jewels(J, S)"
   ]
  },
  {
   "cell_type": "code",
   "execution_count": 112,
   "id": "postal-serbia",
   "metadata": {},
   "outputs": [],
   "source": [
    "def num_jewels(J: str, S: str) -> int:\n",
    "    result = 0\n",
    "    \n",
    "    from collections import Counter\n",
    "    counter = Counter(S)\n",
    "    \n",
    "    for jewel in J:\n",
    "        result += counter[jewel]\n",
    "    \n",
    "    return result"
   ]
  },
  {
   "cell_type": "code",
   "execution_count": 127,
   "id": "consolidated-screen",
   "metadata": {},
   "outputs": [
    {
     "data": {
      "text/plain": [
       "3"
      ]
     },
     "execution_count": 127,
     "metadata": {},
     "output_type": "execute_result"
    }
   ],
   "source": [
    "num_jewels(J, S)"
   ]
  },
  {
   "cell_type": "code",
   "execution_count": 129,
   "id": "unsigned-tractor",
   "metadata": {},
   "outputs": [],
   "source": [
    "def num_jewels(J: str, S: str) -> int:\n",
    "\n",
    "    return sum(s in J for s in S)"
   ]
  },
  {
   "cell_type": "code",
   "execution_count": 133,
   "id": "explicit-chancellor",
   "metadata": {},
   "outputs": [
    {
     "data": {
      "text/plain": [
       "3"
      ]
     },
     "execution_count": 133,
     "metadata": {},
     "output_type": "execute_result"
    }
   ],
   "source": [
    "num_jewels(J, S)"
   ]
  },
  {
   "cell_type": "markdown",
   "id": "graphic-jacket",
   "metadata": {},
   "source": [
    "## 중복 문자 없는 가장 긴 부분 문자열"
   ]
  },
  {
   "cell_type": "code",
   "execution_count": 134,
   "id": "stunning-trade",
   "metadata": {},
   "outputs": [],
   "source": [
    "string1 = 'abcabcbb'\n",
    "output1 = 3\n",
    "\n",
    "string2 = 'bbbbb'\n",
    "output2 = 1\n",
    "\n",
    "string3 = 'pwwkew'\n",
    "output3 = 3"
   ]
  },
  {
   "cell_type": "code",
   "execution_count": 161,
   "id": "silver-ready",
   "metadata": {},
   "outputs": [],
   "source": [
    "# 중복 문자가 없는 가장 긴 부분 문자열의 길이를 반환\n",
    "def length_substring(string: str) -> int:\n",
    "    max_length = 1\n",
    "    \n",
    "    left, right = 0, 0\n",
    "    \n",
    "    while left <= right and right < len(string):\n",
    "#         print(f\"left: {left}, right: {right}\")\n",
    "        tmp_string = string[left: right+1]\n",
    "        \n",
    "        if len(set(tmp_string)) == len(tmp_string):\n",
    "            if right - left + 1 >= max_length:\n",
    "                max_length = right - left + 1\n",
    "#                 print(max_length)\n",
    "            right += 1\n",
    "        else:\n",
    "            left += 1\n",
    "            \n",
    "    return max_length"
   ]
  },
  {
   "cell_type": "code",
   "execution_count": 162,
   "id": "monetary-anatomy",
   "metadata": {},
   "outputs": [
    {
     "data": {
      "text/plain": [
       "3"
      ]
     },
     "execution_count": 162,
     "metadata": {},
     "output_type": "execute_result"
    }
   ],
   "source": [
    "length_substring(string1)"
   ]
  },
  {
   "cell_type": "code",
   "execution_count": 163,
   "id": "unavailable-arizona",
   "metadata": {},
   "outputs": [
    {
     "data": {
      "text/plain": [
       "1"
      ]
     },
     "execution_count": 163,
     "metadata": {},
     "output_type": "execute_result"
    }
   ],
   "source": [
    "length_substring(string2)"
   ]
  },
  {
   "cell_type": "code",
   "execution_count": 164,
   "id": "appreciated-islam",
   "metadata": {},
   "outputs": [
    {
     "data": {
      "text/plain": [
       "3"
      ]
     },
     "execution_count": 164,
     "metadata": {},
     "output_type": "execute_result"
    }
   ],
   "source": [
    "length_substring(string3)"
   ]
  },
  {
   "cell_type": "markdown",
   "id": "vital-truth",
   "metadata": {},
   "source": [
    "## 상위 K 빈도 요소"
   ]
  },
  {
   "cell_type": "code",
   "execution_count": 166,
   "id": "fabulous-compromise",
   "metadata": {},
   "outputs": [],
   "source": [
    "from typing import List"
   ]
  },
  {
   "cell_type": "code",
   "execution_count": 165,
   "id": "planned-ultimate",
   "metadata": {},
   "outputs": [],
   "source": [
    "nums = [1,1,1,2,2,3]\n",
    "k = 2\n",
    "output = [1,2]"
   ]
  },
  {
   "cell_type": "code",
   "execution_count": 170,
   "id": "resident-stream",
   "metadata": {},
   "outputs": [],
   "source": [
    "# 상위 k번 이상 등장하는 요소 추출\n",
    "def frequent_element(nums: List[int], k: int) -> List[int]:\n",
    "    from collections import Counter\n",
    "    counter = Counter(nums)\n",
    "    \n",
    "    return [num for num, count in list(counter.most_common())[:k]]\n",
    "        "
   ]
  },
  {
   "cell_type": "code",
   "execution_count": 428,
   "id": "recent-williams",
   "metadata": {},
   "outputs": [],
   "source": [
    "# 상위 k번 이상 등장하는 요소 추출\n",
    "def frequent_element(nums: List[int], k: int) -> List[int]:\n",
    "    from collections import Counter\n",
    "    import heapq\n",
    "    \n",
    "    freqs = Counter(nums)\n",
    "    \n",
    "    freqs_heap = []\n",
    "    \n",
    "    for f in freqs:\n",
    "        heapq.heappush(freqs_heap, (-freqs[f], f))\n",
    "    \n",
    "    topk = []\n",
    "    \n",
    "    for _ in range(k):\n",
    "        topk.append(heapq.heappop(freqs_heap)[1])\n",
    "        \n",
    "    return topk"
   ]
  },
  {
   "cell_type": "code",
   "execution_count": 429,
   "id": "official-benjamin",
   "metadata": {},
   "outputs": [
    {
     "data": {
      "text/plain": [
       "[1, 2]"
      ]
     },
     "execution_count": 429,
     "metadata": {},
     "output_type": "execute_result"
    }
   ],
   "source": [
    "frequent_element(nums, k)"
   ]
  },
  {
   "cell_type": "code",
   "execution_count": null,
   "id": "artificial-jimmy",
   "metadata": {},
   "outputs": [],
   "source": []
  }
 ],
 "metadata": {
  "kernelspec": {
   "display_name": "Python 3",
   "language": "python",
   "name": "python3"
  },
  "language_info": {
   "codemirror_mode": {
    "name": "ipython",
    "version": 3
   },
   "file_extension": ".py",
   "mimetype": "text/x-python",
   "name": "python",
   "nbconvert_exporter": "python",
   "pygments_lexer": "ipython3",
   "version": "3.8.3"
  }
 },
 "nbformat": 4,
 "nbformat_minor": 5
}
