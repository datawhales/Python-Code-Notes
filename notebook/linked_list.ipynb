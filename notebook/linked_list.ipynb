{
 "cells": [
  {
   "cell_type": "markdown",
   "id": "brief-diary",
   "metadata": {},
   "source": [
    "# 파이썬 알고리즘 인터뷰 8장. 연결 리스트"
   ]
  },
  {
   "cell_type": "markdown",
   "id": "spectacular-collar",
   "metadata": {},
   "source": [
    "## 팰린드롬 연결 리스트"
   ]
  },
  {
   "cell_type": "code",
   "execution_count": 18,
   "id": "thick-coating",
   "metadata": {},
   "outputs": [],
   "source": [
    "# 연결 리스트가 팰린드롬 구조인지 판별\n",
    "# ex) 1->2: False\n",
    "# ex) 1->2->2->1: True\n",
    "\n",
    "class ListNode:\n",
    "    def __init__(self, val=0, next=None):\n",
    "        self.val = val\n",
    "        self.next = next\n",
    "        \n",
    "def is_palindrome(head: ListNode) -> bool:\n",
    "    q = []\n",
    "    \n",
    "    if not head:\n",
    "        return True\n",
    "    \n",
    "    node = head\n",
    "    \n",
    "    while node is not None:\n",
    "        q.append(node.val)\n",
    "        node = node.next\n",
    "    \n",
    "#     print(q)\n",
    "    \n",
    "    while len(q) > 1:\n",
    "        if q.pop(0) != q.pop():\n",
    "            return False\n",
    "    return True\n",
    "    "
   ]
  },
  {
   "cell_type": "code",
   "execution_count": 21,
   "id": "sensitive-going",
   "metadata": {},
   "outputs": [
    {
     "name": "stdout",
     "output_type": "stream",
     "text": [
      "[1, 2, 2, 1]\n"
     ]
    },
    {
     "data": {
      "text/plain": [
       "True"
      ]
     },
     "execution_count": 21,
     "metadata": {},
     "output_type": "execute_result"
    }
   ],
   "source": [
    "is_palindrome(ListNode(1, ListNode(2, ListNode(2, ListNode(1)))))"
   ]
  },
  {
   "cell_type": "code",
   "execution_count": 22,
   "id": "broken-prairie",
   "metadata": {},
   "outputs": [
    {
     "name": "stdout",
     "output_type": "stream",
     "text": [
      "[1, 2]\n"
     ]
    },
    {
     "data": {
      "text/plain": [
       "False"
      ]
     },
     "execution_count": 22,
     "metadata": {},
     "output_type": "execute_result"
    }
   ],
   "source": [
    "is_palindrome(ListNode(1, ListNode(2)))"
   ]
  },
  {
   "cell_type": "code",
   "execution_count": 23,
   "id": "contrary-implementation",
   "metadata": {},
   "outputs": [],
   "source": [
    "from collections import deque\n",
    "\n",
    "def is_palindrome(head: ListNode) -> bool:\n",
    "    q: Deque = deque()\n",
    "        \n",
    "    if not head:\n",
    "        return True\n",
    "    \n",
    "    node = head\n",
    "    while node is not None:\n",
    "        q.append(node.val)\n",
    "        node = node.next\n",
    "        \n",
    "    while len(q) > 1:\n",
    "        if q.popleft() != q.pop():\n",
    "            return False\n",
    "    return True"
   ]
  },
  {
   "cell_type": "code",
   "execution_count": 24,
   "id": "catholic-southeast",
   "metadata": {},
   "outputs": [
    {
     "data": {
      "text/plain": [
       "True"
      ]
     },
     "execution_count": 24,
     "metadata": {},
     "output_type": "execute_result"
    }
   ],
   "source": [
    "is_palindrome(ListNode(1, ListNode(2, ListNode(2, ListNode(1)))))"
   ]
  },
  {
   "cell_type": "code",
   "execution_count": 96,
   "id": "respiratory-somerset",
   "metadata": {},
   "outputs": [
    {
     "data": {
      "text/plain": [
       "False"
      ]
     },
     "execution_count": 96,
     "metadata": {},
     "output_type": "execute_result"
    }
   ],
   "source": [
    "is_palindrome(ListNode(1, ListNode(2)))"
   ]
  },
  {
   "cell_type": "markdown",
   "id": "brutal-boost",
   "metadata": {},
   "source": [
    "## 두 정렬 리스트의 병합"
   ]
  },
  {
   "cell_type": "code",
   "execution_count": 99,
   "id": "supreme-sample",
   "metadata": {},
   "outputs": [],
   "source": [
    "# 정렬되어 있는 두 연결 리스트 합치기\n",
    "# 1-2-4, 1-3-4\n",
    "# 1-1-2-3-4-4\n",
    "\n",
    "def merge_two_lists(list1: ListNode, list2: ListNode) -> ListNode:\n",
    "    if (not list1) or (list2 and list1.val > list2.val):\n",
    "        list1, list2 = list2, list1\n",
    "    if list1:\n",
    "        list1.next = merge_two_lists(list1.next, list2)\n",
    "    return list1"
   ]
  },
  {
   "cell_type": "code",
   "execution_count": 101,
   "id": "active-companion",
   "metadata": {},
   "outputs": [],
   "source": [
    "list1 = ListNode(1, ListNode(2, ListNode(4)))\n",
    "list2 = ListNode(1, ListNode(3, ListNode(4)))\n",
    "merged_list = merge_two_lists(list1, list2)"
   ]
  },
  {
   "cell_type": "code",
   "execution_count": 102,
   "id": "insured-battery",
   "metadata": {},
   "outputs": [
    {
     "name": "stdout",
     "output_type": "stream",
     "text": [
      "1\n",
      "1\n",
      "2\n",
      "3\n",
      "4\n",
      "4\n"
     ]
    }
   ],
   "source": [
    "while merged_list:\n",
    "    print(merged_list.val)\n",
    "    merged_list = merged_list.next"
   ]
  },
  {
   "cell_type": "markdown",
   "id": "settled-biology",
   "metadata": {},
   "source": [
    "## 역순 연결 리스트"
   ]
  },
  {
   "cell_type": "code",
   "execution_count": 104,
   "id": "arctic-ecuador",
   "metadata": {},
   "outputs": [],
   "source": [
    "# 연결 리스트 뒤집기\n",
    "# 1-2-3-4-5-Null\n",
    "# 5-4-3-2-1-Null\n",
    "\n",
    "def reverse_list(head: ListNode) -> ListNode:\n",
    "    def reverse(node: ListNode, prev: ListNode=None):\n",
    "        if not node:\n",
    "            return prev\n",
    "        next, node.next = node.next, prev\n",
    "        return reverse(next, node)\n",
    "    return reverse(head)"
   ]
  },
  {
   "cell_type": "code",
   "execution_count": 114,
   "id": "recognized-inside",
   "metadata": {},
   "outputs": [],
   "source": [
    "def reverse_list(head: ListNode) -> ListNode:\n",
    "    node, prev = head, None\n",
    "    \n",
    "    while node:\n",
    "        tmp, node.next = node.next, prev\n",
    "        prev, node = node, tmp\n",
    "    \n",
    "    return prev"
   ]
  },
  {
   "cell_type": "code",
   "execution_count": 116,
   "id": "unavailable-rating",
   "metadata": {},
   "outputs": [
    {
     "data": {
      "text/plain": [
       "5"
      ]
     },
     "execution_count": 116,
     "metadata": {},
     "output_type": "execute_result"
    }
   ],
   "source": [
    "reverse_list(ListNode(1, ListNode(2, ListNode(3, ListNode(4, ListNode(5))))))"
   ]
  },
  {
   "cell_type": "code",
   "execution_count": 119,
   "id": "excited-macro",
   "metadata": {},
   "outputs": [],
   "source": [
    "def show_list(head: ListNode) -> None:\n",
    "    node = head\n",
    "    while node is not None:\n",
    "        print(node.val, end=' ')\n",
    "        node = node.next"
   ]
  },
  {
   "cell_type": "code",
   "execution_count": 120,
   "id": "liable-lucas",
   "metadata": {},
   "outputs": [
    {
     "name": "stdout",
     "output_type": "stream",
     "text": [
      "5 4 3 2 1 "
     ]
    }
   ],
   "source": [
    "show_list(reverse_list(ListNode(1, ListNode(2, ListNode(3, ListNode(4, ListNode(5)))))))"
   ]
  },
  {
   "cell_type": "markdown",
   "id": "geological-dancing",
   "metadata": {},
   "source": [
    "## 두 수의 덧셈"
   ]
  },
  {
   "cell_type": "code",
   "execution_count": 135,
   "id": "specialized-jackson",
   "metadata": {},
   "outputs": [],
   "source": [
    "# 역순으로 저장된 연결 리스트의 숫자 더하기\n",
    "# 2 - 4 - 3 + 5 - 6 - 4\n",
    "# output: 7 - 0 - 8\n",
    "# 342 + 465 = 807\n",
    "\n",
    "def reverse_list(head: ListNode) -> ListNode:\n",
    "    node, prev = head, None\n",
    "    \n",
    "    while node:\n",
    "        tmp, node.next = node.next, prev\n",
    "        prev, node = node, tmp\n",
    "        \n",
    "    return prev\n",
    "\n",
    "def to_list(head: ListNode) -> list:\n",
    "    result = []\n",
    "    if not head:\n",
    "        return []\n",
    "    \n",
    "    node = head\n",
    "    \n",
    "    while node:\n",
    "        result.append(node.val)\n",
    "        node = node.next\n",
    "    \n",
    "    return result\n",
    "\n",
    "def list2int(num_list: list) -> int:\n",
    "    result = 0\n",
    "    for i, num in enumerate(num_list):\n",
    "        result += num * 10 ** i\n",
    "    return result\n",
    "\n",
    "def make_list(num_list):\n",
    "    head = ListNode(num_list[0])\n",
    "    node = head\n",
    "\n",
    "    for i, num in enumerate(num_list):\n",
    "        if i == 0:\n",
    "            continue\n",
    "        node.next = ListNode(num)\n",
    "        node = node.next\n",
    "    return head\n",
    "\n",
    "def add_two_num(list1: ListNode, list2: ListNode) -> ListNode:\n",
    "    result = list2int(to_list(reverse_list(list1))) + list2int(to_list(reverse_list(list2)))\n",
    "    \n",
    "    num_list = [int(x) for x in str(result)]\n",
    "    \n",
    "    return reverse_list(make_list(num_list))\n"
   ]
  },
  {
   "cell_type": "code",
   "execution_count": 137,
   "id": "accepting-found",
   "metadata": {},
   "outputs": [
    {
     "name": "stdout",
     "output_type": "stream",
     "text": [
      "7 0 8 "
     ]
    }
   ],
   "source": [
    "show_list(add_two_num(make_list([2,4,3]), make_list([5,6,4])))"
   ]
  },
  {
   "cell_type": "code",
   "execution_count": 152,
   "id": "adjacent-adoption",
   "metadata": {},
   "outputs": [
    {
     "data": {
      "text/plain": [
       "-87655"
      ]
     },
     "execution_count": 152,
     "metadata": {},
     "output_type": "execute_result"
    }
   ],
   "source": [
    "import functools\n",
    "\n",
    "a = [1,2,3,4,5]\n",
    "\n",
    "functools.reduce(lambda x, y: 10 * x + y, a, -1)"
   ]
  },
  {
   "cell_type": "code",
   "execution_count": 150,
   "id": "stylish-porter",
   "metadata": {},
   "outputs": [
    {
     "data": {
      "text/plain": [
       "15"
      ]
     },
     "execution_count": 150,
     "metadata": {},
     "output_type": "execute_result"
    }
   ],
   "source": [
    "functools.reduce(lambda x, y: x + y, a, 0)"
   ]
  },
  {
   "cell_type": "code",
   "execution_count": null,
   "id": "preliminary-behavior",
   "metadata": {},
   "outputs": [],
   "source": []
  }
 ],
 "metadata": {
  "kernelspec": {
   "display_name": "Python 3",
   "language": "python",
   "name": "python3"
  },
  "language_info": {
   "codemirror_mode": {
    "name": "ipython",
    "version": 3
   },
   "file_extension": ".py",
   "mimetype": "text/x-python",
   "name": "python",
   "nbconvert_exporter": "python",
   "pygments_lexer": "ipython3",
   "version": "3.8.3"
  }
 },
 "nbformat": 4,
 "nbformat_minor": 5
}
